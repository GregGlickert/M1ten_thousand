{
 "cells": [
  {
   "cell_type": "code",
   "execution_count": 1,
   "metadata": {},
   "outputs": [],
   "source": [
    "import numpy as np\n",
    "import pandas as pd\n",
    "import xarray as xr\n",
    "import matplotlib.pyplot as plt\n",
    "import json\n",
    "import os\n",
    "\n",
    "import analysis.pipelines.population_spikes as ps\n",
    "from analysis import utils\n",
    "\n",
    "RESULT_PATH = \"simulation_results\"\n",
    "OUTPUT_PATH = \"analysis_results\"\n",
    "\n",
    "save_data = True"
   ]
  },
  {
   "cell_type": "code",
   "execution_count": 2,
   "metadata": {},
   "outputs": [],
   "source": [
    "ps.set_variables(RESULT_PATH=RESULT_PATH, OUTPUT_PATH=OUTPUT_PATH)\n",
    "\n",
    "PN_pop_names = ps.PN_pop_names\n",
    "ITN_pop_names = ps.ITN_pop_names"
   ]
  },
  {
   "cell_type": "markdown",
   "metadata": {},
   "source": [
    "#### Set trials and statistics"
   ]
  },
  {
   "cell_type": "code",
   "execution_count": 3,
   "metadata": {},
   "outputs": [
    {
     "name": "stdout",
     "output_type": "stream",
     "text": [
      "['ramp_a0_t0.3_rand', 'ramp_a0_t0.3_div', 'ramp_a0_t1.0_rand', 'ramp_a0_t1.0_div', 'ramp_a0_t1.0_down_rand', 'ramp_a0_t1.0_down_div', 'ramp_a0_t3.0_rand', 'ramp_a0_t3.0_div', 'join_a0_t0.3_rand', 'join_a0_t0.3_div', 'join_a0_t1.0_rand', 'join_a0_t1.0_div', 'join_a0_t1.0_quit_rand', 'join_a0_t1.0_quit_div', 'join_a0_t3.0_rand', 'join_a0_t3.0_div', 'fade_a01_t0.1_rand', 'fade_a01_t0.1_div', 'fade_a03_t0.1_div', 'fade_a01_t0.3_rand', 'fade_a01_t0.3_div', 'fade_a03_t0.3_div', 'fade_a01_t1.0_rand', 'fade_a01_t1.0_div', 'fade_a03_t1.0_div', 'fade_a01_t3.0_rand', 'fade_a01_t3.0_div', 'fade_a03_t3.0_div']\n"
     ]
    }
   ],
   "source": [
    "filter = ('rand', 'div')\n",
    "revert_junction = False\n",
    "exclude = ['baseline', 'short', 'long']\n",
    "\n",
    "with open(os.path.join(OUTPUT_PATH, 'trials_ordered.json'), 'r') as f:\n",
    "    trials_ordered = json.load(f)\n",
    "trials = ps.get_trials(filter, trials=trials_ordered, revert_junction=revert_junction, exclude=exclude)\n",
    "print(trials)"
   ]
  },
  {
   "cell_type": "code",
   "execution_count": 4,
   "metadata": {},
   "outputs": [],
   "source": [
    "wave_pop = 'ITN'\n",
    "\n",
    "waves = ['gamma', 'beta']\n",
    "pop_groups = ['PN stimulated', 'PN rest'] + ITN_pop_names\n",
    "stats = ['mean', 'stdev']\n",
    "stat_func = {'mean': np.mean, 'stdev': np.std}\n",
    "\n",
    "# define function for retrieving unit ids in each group\n",
    "def get_grp_ids(plv_ds):\n",
    "    ids = {}\n",
    "    idx = plv_ds.assy_id.values >= 0\n",
    "    ids['PN stimulated'] = np.concatenate([plv_ds[p].values for p in plv_ds.PN_names[idx].values])\n",
    "    ids['PN rest'] = np.concatenate([plv_ds[p].values for p in plv_ds.PN_names[~idx].values])\n",
    "    for p in ITN_pop_names:\n",
    "        ids[p] = plv_ds[p].values\n",
    "    return ids\n",
    "\n",
    "columns = pd.MultiIndex.from_product((waves, pop_groups, stats))\n",
    "plv_list = []\n",
    "trial_label = []"
   ]
  },
  {
   "cell_type": "markdown",
   "metadata": {},
   "source": [
    "#### Get statistics dataframe"
   ]
  },
  {
   "cell_type": "code",
   "execution_count": 5,
   "metadata": {},
   "outputs": [],
   "source": [
    "for tr in trials:\n",
    "    file = os.path.join(ps.FR_ENTR_PATH, tr + '.nc')\n",
    "    if not os.path.isfile(file):\n",
    "        continue\n",
    "    trial_label.append(utils.get_trial_label(tr, dlm=' '))\n",
    "    plv_ds = xr.load_dataset(file)\n",
    "    grp_ids = get_grp_ids(plv_ds)\n",
    "    plv_stat = pd.Series(0., index=columns)\n",
    "    for grp, ids in grp_ids.items():\n",
    "        plv = plv_ds.PLV.sel(unit_id=ids, wave_population=wave_pop)\n",
    "        for w in waves:\n",
    "            for stat in stats:\n",
    "                plv_stat.loc[(w, grp, stat)] = stat_func[stat](plv.values)\n",
    "    plv_list.append(plv_stat.values)\n",
    "\n",
    "plv_df = pd.DataFrame(plv_list, index=pd.Index(trial_label, name='trial'), columns=columns)"
   ]
  },
  {
   "cell_type": "markdown",
   "metadata": {},
   "source": [
    "Save to file"
   ]
  },
  {
   "cell_type": "code",
   "execution_count": 6,
   "metadata": {},
   "outputs": [],
   "source": [
    "if save_data:\n",
    "    file_name = 'PLV_to_' + wave_pop + '_FR.csv'\n",
    "    plv_df.to_csv(os.path.join(ps.FR_ENTR_PATH, file_name))"
   ]
  },
  {
   "cell_type": "markdown",
   "metadata": {},
   "source": [
    "#### Format print statistics"
   ]
  },
  {
   "cell_type": "code",
   "execution_count": 7,
   "metadata": {},
   "outputs": [],
   "source": [
    "@np.vectorize\n",
    "def format_stats(mean, std):\n",
    "    return f'{mean:.3f} ({std:.3f})'\n",
    "\n",
    "pd_idx = pd.IndexSlice\n",
    "\n",
    "means = plv_df.loc[:, pd_idx[:, :, 'mean']].values\n",
    "stds = plv_df.loc[:, pd_idx[:, :, 'stdev']].values\n",
    "stat_df = pd.DataFrame(format_stats(means, stds), index=plv_df.index,\n",
    "                       columns=columns.droplevel(2).drop_duplicates())"
   ]
  },
  {
   "cell_type": "code",
   "execution_count": 8,
   "metadata": {},
   "outputs": [],
   "source": [
    "if save_data:\n",
    "    file_name = 'PLV_to_' + wave_pop + '_FR_fmt.csv'\n",
    "    stat_df.to_csv(os.path.join(ps.FR_ENTR_PATH, file_name))"
   ]
  },
  {
   "cell_type": "code",
   "execution_count": null,
   "metadata": {},
   "outputs": [],
   "source": []
  }
 ],
 "metadata": {
  "kernelspec": {
   "display_name": "base",
   "language": "python",
   "name": "python3"
  },
  "language_info": {
   "codemirror_mode": {
    "name": "ipython",
    "version": 3
   },
   "file_extension": ".py",
   "mimetype": "text/x-python",
   "name": "python",
   "nbconvert_exporter": "python",
   "pygments_lexer": "ipython3",
   "version": "3.9.12"
  }
 },
 "nbformat": 4,
 "nbformat_minor": 2
}
