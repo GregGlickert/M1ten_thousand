{
 "cells": [
  {
   "cell_type": "code",
   "execution_count": null,
   "id": "9dbe3b1e",
   "metadata": {},
   "outputs": [],
   "source": [
    "import numpy as np\n",
    "import pandas as pd\n",
    "import xarray as xr\n",
    "import matplotlib.pyplot as plt\n",
    "import h5py\n",
    "import json\n",
    "import csv\n",
    "import os\n",
    "from bmtool.util.util import load_nodes_from_config\n",
    "\n",
    "from analysis import plot, utils # imoporting analysis module enables import from model folder\n",
    "from build_input import get_populations, get_stim_cycle, t_start, on_time, off_time\n",
    "\n",
    "%matplotlib inline\n",
    "\n",
    "TRIAL_NAME = \"long_r33\"\n",
    "RESULT_PATH = \"simulation_results\"\n",
    "TRIAL_PATH = os.path.join(RESULT_PATH, TRIAL_NAME)\n",
    "INPUT_PATH = os.path.join('..', 'M1Focus', 'input')"
   ]
  },
  {
   "cell_type": "markdown",
   "id": "b2b6ad21",
   "metadata": {},
   "source": [
    "### Load data"
   ]
  },
  {
   "cell_type": "code",
   "execution_count": null,
   "id": "78f11560",
   "metadata": {},
   "outputs": [],
   "source": [
    "stimulus_type, config = utils.stimulus_type_from_trial_name(TRIAL_NAME)\n",
    "isbaseline = stimulus_type == 'baseline' or stimulus_type == 'const'\n",
    "\n",
    "spike_file = os.path.join('..', 'Analysis', TRIAL_PATH, 'spikes.h5')\n",
    "config_file = os.path.join('..', 'M1Focus', config)\n",
    "\n",
    "pop_color = plot.pop_color\n",
    "pop_names = plot.pop_names\n",
    "\n",
    "network_name = 'cortex'\n",
    "spikes_df = utils.load_spikes_to_df(spike_file, network_name)\n",
    "\n",
    "node_df = load_nodes_from_config(config_file)[network_name]\n",
    "pop_ids = get_populations(node_df, pop_names, only_id=True)"
   ]
  },
  {
   "cell_type": "code",
   "execution_count": null,
   "id": "223fac7d",
   "metadata": {},
   "outputs": [],
   "source": []
  },
  {
   "cell_type": "code",
   "execution_count": null,
   "id": "a20ca66b",
   "metadata": {},
   "outputs": [],
   "source": []
  }
 ],
 "metadata": {
  "kernelspec": {
   "display_name": "Python 3 (ipykernel)",
   "language": "python",
   "name": "python3"
  },
  "language_info": {
   "codemirror_mode": {
    "name": "ipython",
    "version": 3
   },
   "file_extension": ".py",
   "mimetype": "text/x-python",
   "name": "python",
   "nbconvert_exporter": "python",
   "pygments_lexer": "ipython3",
   "version": "3.9.12"
  }
 },
 "nbformat": 4,
 "nbformat_minor": 5
}
