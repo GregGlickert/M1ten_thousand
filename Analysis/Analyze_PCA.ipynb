{
 "cells": [
  {
   "cell_type": "code",
   "execution_count": 1,
   "metadata": {},
   "outputs": [],
   "source": [
    "import numpy as np\n",
    "import pandas as pd\n",
    "import matplotlib.pyplot as plt\n",
    "import plotly.express as px\n",
    "import plotly.graph_objects as go\n",
    "import json\n",
    "import os\n",
    "\n",
    "from sklearn.decomposition import PCA\n",
    "from sklearn.metrics.pairwise import cosine_similarity\n",
    "from plotly.subplots import make_subplots\n",
    "\n",
    "import analysis.pipelines.population_spikes as ps\n",
    "from analysis import plot, metric\n",
    "from build_input import input_pairs_from_file\n",
    "\n",
    "RESULT_PATH = \"simulation_results\"\n",
    "OUTPUT_PATH = \"analysis_results\"\n",
    "\n",
    "savefig = False"
   ]
  },
  {
   "cell_type": "code",
   "execution_count": 2,
   "metadata": {},
   "outputs": [
    {
     "name": "stdout",
     "output_type": "stream",
     "text": [
      "['short_div', 'long_div']\n"
     ]
    }
   ],
   "source": [
    "# input_type = 'rand'\n",
    "input_type = 'div'\n",
    "\n",
    "filter = (input_type, )\n",
    "exclude = ('baseline', )\n",
    "standard = ('short', 'long')\n",
    "\n",
    "# For standard stimuli\n",
    "filter += (standard, )\n",
    "n_components = 10\n",
    "\n",
    "# # For non standard stimuli\n",
    "# exclude += standard\n",
    "# exclude += ('a03', )\n",
    "# n_components = 3\n",
    "\n",
    "# # For division case, fade between assemblies 0, 1 vs 0, 3\n",
    "# # filter = ('div', 'a01')\n",
    "# filter = ('div', 'a03')\n",
    "# exclude = None\n",
    "# n_components = 3\n",
    "\n",
    "revert_junction = True\n",
    "\n",
    "with open(os.path.join(OUTPUT_PATH, 'trials_ordered.json'), 'r') as f:\n",
    "    trials_ordered = json.load(f)\n",
    "trials = ps.get_trials(filter, trials=trials_ordered, revert_junction=revert_junction, exclude=exclude)\n",
    "print(trials)"
   ]
  },
  {
   "cell_type": "markdown",
   "metadata": {},
   "source": [
    "### Load data"
   ]
  },
  {
   "cell_type": "code",
   "execution_count": 3,
   "metadata": {},
   "outputs": [],
   "source": [
    "ps.set_variables(RESULT_PATH=RESULT_PATH, OUTPUT_PATH=OUTPUT_PATH)\n",
    "\n",
    "unit_rspk = []\n",
    "for trial in trials:\n",
    "    PN_spk_file, _ = ps.get_file(trial)\n",
    "    if os.path.isfile(PN_spk_file): \n",
    "        with np.load(PN_spk_file) as f:\n",
    "            unit_rspk.append(f['unit_fr'][:, f['i_start_fr']:])\n",
    "    else:\n",
    "        raise FileNotFoundError(f\"Data file {PN_spk_file:s} not created\")\n",
    "unit_rspk = np.concatenate(unit_rspk, axis=1)"
   ]
  },
  {
   "cell_type": "code",
   "execution_count": 4,
   "metadata": {},
   "outputs": [],
   "source": [
    "pop_ids, trial_info = ps.load_trial(trials[0], ps.PN_pop_names, only_id=True)\n",
    "PN_node_ids = np.concatenate([pop_ids[p] for p in ps.PN_pop_names])\n",
    "INPUT_PATH = trial_info[1][0]  # Waring: all trials should share the same input path\n",
    "\n",
    "# node ids in assemblies\n",
    "_, Assembly_ids = input_pairs_from_file(os.path.join(INPUT_PATH, 'Assembly_ids.csv'))\n",
    "n_assy = len(Assembly_ids)\n",
    "assy_ids = {a: ids for a, ids in enumerate(Assembly_ids)}\n",
    "\n",
    "# get assembly groups if obtained from intrinsic assemblies\n",
    "div_ids_file = os.path.join(INPUT_PATH, 'Division_ids.csv')\n",
    "isdivision = os.path.isfile(div_ids_file)\n",
    "if isdivision:\n",
    "    div_id = pd.read_csv(div_ids_file, index_col='division_id')['assembly_id']\n",
    "    assy_div = {v: div_id[div_id == v].index.tolist() for v in div_id.unique()}\n",
    "    assy_ids_disp = [a for ids in assy_div.values() for a in ids]\n",
    "else:\n",
    "    assy_ids_disp = list(assy_ids)\n",
    "\n",
    "# name for PN group that receive common external input\n",
    "prefix = 'strong' if isdivision else 'random'\n",
    "assy_names = {a: f'{prefix:s} {a:d}' for a in assy_ids}\n",
    "assy_names_disp = [assy_names[a] for a in assy_ids_disp]"
   ]
  },
  {
   "cell_type": "markdown",
   "metadata": {},
   "source": [
    "### Process PCA"
   ]
  },
  {
   "cell_type": "code",
   "execution_count": 5,
   "metadata": {},
   "outputs": [],
   "source": [
    "# Assembly direction vectors of assemblies\n",
    "PN_idx = pd.Series(range(len(PN_node_ids)), index=PN_node_ids)\n",
    "assy_dvec = np.zeros((n_assy, PN_idx.size))\n",
    "for i, ids in enumerate(Assembly_ids):\n",
    "    assy_dvec[i, PN_idx[ids]] = 1\n",
    "inactive_units = ~np.any(unit_rspk, axis=1)\n",
    "assy_dvec[:, inactive_units] = 0  # remove inactivate units"
   ]
  },
  {
   "cell_type": "code",
   "execution_count": 6,
   "metadata": {},
   "outputs": [
    {
     "data": {
      "text/plain": [
       "PCA(n_components=10)"
      ]
     },
     "execution_count": 6,
     "metadata": {},
     "output_type": "execute_result"
    }
   ],
   "source": [
    "# PCA\n",
    "n_components = min(n_assy + 1, n_components)\n",
    "pca = PCA(n_components=n_components)\n",
    "pca.fit(unit_rspk.T)"
   ]
  },
  {
   "cell_type": "code",
   "execution_count": 7,
   "metadata": {},
   "outputs": [],
   "source": [
    "# Cosine similarity between PCs and assembly direction vectors\n",
    "cosvec_mat = np.abs(cosine_similarity(pca.components_, assy_dvec))\n",
    "cosvec = pd.DataFrame(cosvec_mat[:, assy_ids_disp], columns=assy_names_disp,\n",
    "                      index=pd.Index(range(pca.components_.shape[0]), name='PCs'))\n",
    "cosvec['max'] = cosvec.max(axis=1)\n",
    "cosvec['max_group'] = [cosvec.columns[i] for i in np.argmax(cosvec.values, axis=1)]\n",
    "cosvec['total projection'] = np.linalg.norm(cosvec_mat, axis=1)\n",
    "assy2pc_proj = np.linalg.norm(cosvec_mat[:n_assy], axis=0)\n",
    "\n",
    "P_angles, Gr_dist = metric.principal_angles(pca.components_[:n_assy], assy_dvec, rowspace=True)"
   ]
  },
  {
   "cell_type": "markdown",
   "metadata": {},
   "source": [
    "### Plots"
   ]
  },
  {
   "cell_type": "code",
   "execution_count": 8,
   "metadata": {},
   "outputs": [
    {
     "data": {
      "image/png": "[encoded data removed]",
      "text/plain": [
       "<Figure size 324x180 with 1 Axes>"
      ]
     },
     "metadata": {
      "needs_background": "light"
     },
     "output_type": "display_data"
    },
    {
     "data": {
      "image/png": "[encoded data removed]",
      "text/plain": [
       "<Figure size 324x180 with 1 Axes>"
      ]
     },
     "metadata": {
      "needs_background": "light"
     },
     "output_type": "display_data"
    },
    {
     "data": {
      "image/png": "[encoded data removed]",
      "text/plain": [
       "<Figure size 324x180 with 1 Axes>"
      ]
     },
     "metadata": {
      "needs_background": "light"
     },
     "output_type": "display_data"
    },
    {
     "data": {
      "image/png": "[encoded data removed]",
      "text/plain": [
       "<Figure size 324x180 with 1 Axes>"
      ]
     },
     "metadata": {
      "needs_background": "light"
     },
     "output_type": "display_data"
    }
   ],
   "source": [
    "figsize = (4.5, 2.5)\n",
    "\n",
    "# Explained variance\n",
    "X = np.arange(n_components)\n",
    "fig1 = plt.figure(figsize=figsize)\n",
    "plt.bar(X, pca.explained_variance_ratio_)\n",
    "plt.xlim(X[[0, -1]] + np.array([-0.5, 0.5]))\n",
    "plt.xticks(X)\n",
    "plt.xlabel('Principal components')\n",
    "plt.ylabel('Explained variance (%)')\n",
    "if savefig:\n",
    "    # plt.title('Random assembly')  # with rand trials\n",
    "    plt.title('Strong assembly')  # with div  trials\n",
    "\n",
    "# Distance between PC subspace and assembly subspace\n",
    "X = np.arange(len(P_angles))\n",
    "fig2 = plt.figure(figsize=figsize)\n",
    "plt.bar(X, 180 / np.pi * P_angles)\n",
    "text_kwargs = dict(transform=plt.gca().transAxes, fontsize='large', fontweight='bold',\n",
    "                   horizontalalignment='right', verticalalignment='top')\n",
    "plt.text(0.95, 0.88, 'Grassmann distance    ', **text_kwargs)\n",
    "plt.text(0.95, 0.72, '%5.2f (rad), %5.1f (deg)' % (Gr_dist, 180 / np.pi *  Gr_dist), **text_kwargs)\n",
    "plt.xlim(X[[0, -1]] + np.array([-0.5, 0.5]))\n",
    "plt.xticks(X)\n",
    "plt.xlabel('Principal angles')\n",
    "plt.ylabel('Degree')\n",
    "plt.title('b\\w PCs and direction vectors')\n",
    "\n",
    "# Projection of PCs and assembly directions onto the each other's subspace\n",
    "X = np.arange(n_components)\n",
    "fig3 = plt.figure(figsize=figsize)\n",
    "plt.bar(X, cosvec['total projection'])\n",
    "plt.xlim(X[[0, -1]] + np.array([-0.5, 0.5]))\n",
    "plt.ylim(0, 1)\n",
    "plt.xticks(X)\n",
    "plt.xlabel('Principal components')\n",
    "plt.ylabel('Projection of PC')\n",
    "plt.title('onto direction vectors')\n",
    "\n",
    "X = np.arange(n_assy)\n",
    "fig4 = plt.figure(figsize=figsize)\n",
    "if isdivision:\n",
    "    for i, ids in assy_div.items():\n",
    "        plt.bar(ids, assy2pc_proj[ids], label=str(i))\n",
    "    plt.legend(title='intrinsic assembly', loc='upper right', framealpha=0.2)\n",
    "else:\n",
    "    plt.bar(X, assy2pc_proj)\n",
    "plt.xlim(X[[0, -1]] + np.array([-0.5, 0.5]))\n",
    "plt.ylim(0, 1)\n",
    "plt.xticks(X)\n",
    "plt.xlabel('Group ID')\n",
    "plt.ylabel('Projection of direction vector')\n",
    "plt.title(f'onto top {min(n_components, n_assy):d} PCs')\n",
    "\n",
    "if savefig:\n",
    "    for L, fig in zip(['A', 'B', 'C'], [fig1, fig2, fig4]):\n",
    "        # plot.savefig(fig, f'Fig_3E1_{L:s}')  # rand\n",
    "        plot.savefig(fig, f'Fig_3E2_{L:s}')  # div\n",
    "\n",
    "plt.show()"
   ]
  },
  {
   "cell_type": "code",
   "execution_count": 9,
   "metadata": {},
   "outputs": [
    {
     "data": {
      "application/vnd.plotly.v1+json": {
       "config": {
        "plotlyServerURL": "https://plot.ly"
       },
       "data": [
        {
         "line": {
          "color": "rgb(3, 35, 51)"
         },
         "mode": "lines",
         "name": "PC 9",
         "r": [
          0.13529695116085744,
          0.14866565785343264,
          0.16276196445604552,
          0.14305774103675237,
          0.16092653443706262,
          0.1491030788427492,
          0.14585560943077377,
          0.15017207424249293,
          0.16155120730322295,
          0.13529695116085744
         ],
         "theta": [
          "strong 0",
          "strong 3",
          "strong 6",
          "strong 1",
          "strong 4",
          "strong 7",
          "strong 2",
          "strong 5",
          "strong 8",
          "strong 0"
         ],
         "type": "scatterpolar"
        },
        {
         "line": {
          "color": "rgb(22, 48, 112)"
         },
         "mode": "lines",
         "name": "PC 8",
         "r": [
          0.21342118719265374,
          0.16304926533192263,
          0.1719488619567113,
          0.1743722277346974,
          0.17177008901900942,
          0.20128998254505684,
          0.18810088241512704,
          0.17054758917308632,
          0.18959166798589155,
          0.21342118719265374
         ],
         "theta": [
          "strong 0",
          "strong 3",
          "strong 6",
          "strong 1",
          "strong 4",
          "strong 7",
          "strong 2",
          "strong 5",
          "strong 8",
          "strong 0"
         ],
         "type": "scatterpolar"
        },
        {
         "line": {
          "color": "rgb(71, 55, 154)"
         },
         "mode": "lines",
         "name": "PC 7",
         "r": [
          0.0314261309293047,
          0.10272634896858437,
          0.36415525427827744,
          0.10311274268509038,
          0.254439703704163,
          0.6180073884257101,
          0.0015043025547269095,
          0.26254152073730397,
          0.2967085987847065,
          0.0314261309293047
         ],
         "theta": [
          "strong 0",
          "strong 3",
          "strong 6",
          "strong 1",
          "strong 4",
          "strong 7",
          "strong 2",
          "strong 5",
          "strong 8",
          "strong 0"
         ],
         "type": "scatterpolar"
        },
        {
         "line": {
          "color": "rgb(115, 72, 146)"
         },
         "mode": "lines",
         "name": "PC 6",
         "r": [
          0.1885816555107787,
          0.3863738350317742,
          0.03197333180133898,
          0.34618854197739496,
          0.2890277892835094,
          0.1470413426079518,
          0.4881499926623645,
          0.2522317261367376,
          0.20741614986841841,
          0.1885816555107787
         ],
         "theta": [
          "strong 0",
          "strong 3",
          "strong 6",
          "strong 1",
          "strong 4",
          "strong 7",
          "strong 2",
          "strong 5",
          "strong 8",
          "strong 0"
         ],
         "type": "scatterpolar"
        },
        {
         "line": {
          "color": "rgb(154, 88, 136)"
         },
         "mode": "lines",
         "name": "PC 5",
         "r": [
          0.5141116817221804,
          0.05202595748840625,
          0.3697837882640657,
          0.27227129024234753,
          0.024983242546367735,
          0.35137764660003956,
          0.013424686894328646,
          0.35815918851451456,
          0.1961765409738025,
          0.5141116817221804
         ],
         "theta": [
          "strong 0",
          "strong 3",
          "strong 6",
          "strong 1",
          "strong 4",
          "strong 7",
          "strong 2",
          "strong 5",
          "strong 8",
          "strong 0"
         ],
         "type": "scatterpolar"
        },
        {
         "line": {
          "color": "rgb(197, 101, 118)"
         },
         "mode": "lines",
         "name": "PC 4",
         "r": [
          0.1449384331825872,
          0.11770970855853319,
          0.23058970372505544,
          0.026374478391842895,
          0.4525718328732345,
          0.2843121796706454,
          0.5260504901425982,
          0.2730790320813052,
          0.2006808908916327,
          0.1449384331825872
         ],
         "theta": [
          "strong 0",
          "strong 3",
          "strong 6",
          "strong 1",
          "strong 4",
          "strong 7",
          "strong 2",
          "strong 5",
          "strong 8",
          "strong 0"
         ],
         "type": "scatterpolar"
        },
        {
         "line": {
          "color": "rgb(232, 122, 88)"
         },
         "mode": "lines",
         "name": "PC 3",
         "r": [
          0.07223196995846998,
          0.4851141279578393,
          0.02407438218462651,
          0.3858388852244745,
          0.23017316188326145,
          0.0850730594224031,
          0.10763495223759646,
          0.449369689882704,
          0.31810839541725566,
          0.07223196995846998
         ],
         "theta": [
          "strong 0",
          "strong 3",
          "strong 6",
          "strong 1",
          "strong 4",
          "strong 7",
          "strong 2",
          "strong 5",
          "strong 8",
          "strong 0"
         ],
         "type": "scatterpolar"
        },
        {
         "line": {
          "color": "rgb(249, 158, 64)"
         },
         "mode": "lines",
         "name": "PC 2",
         "r": [
          0.4952540128551561,
          0.019506774385267187,
          0.4902427662314906,
          0.08776543861097902,
          0.1980398484017092,
          0.02538066097188512,
          0.34146724533385026,
          0.07275306816153723,
          0.3413221996846563,
          0.4952540128551561
         ],
         "theta": [
          "strong 0",
          "strong 3",
          "strong 6",
          "strong 1",
          "strong 4",
          "strong 7",
          "strong 2",
          "strong 5",
          "strong 8",
          "strong 0"
         ],
         "type": "scatterpolar"
        },
        {
         "line": {
          "color": "rgb(247, 203, 68)"
         },
         "mode": "lines",
         "name": "PC 1",
         "r": [
          0.17619893069422596,
          0.4598288631028697,
          0.018595128260477507,
          0.3071500068396404,
          0.47590499515784307,
          0.16420562331118657,
          0.08078277549170772,
          0.17664865535108124,
          0.36387914185031783,
          0.17619893069422596
         ],
         "theta": [
          "strong 0",
          "strong 3",
          "strong 6",
          "strong 1",
          "strong 4",
          "strong 7",
          "strong 2",
          "strong 5",
          "strong 8",
          "strong 0"
         ],
         "type": "scatterpolar"
        },
        {
         "line": {
          "color": "rgb(231, 250, 90)"
         },
         "mode": "lines",
         "name": "PC 0",
         "r": [
          0.27989866266444613,
          0.23673839506953095,
          0.33759562653338415,
          0.48881252201417424,
          0.03220799357249858,
          0.18068779504083207,
          0.17162832692889993,
          0.33631671623143256,
          0.3256856560908268,
          0.27989866266444613
         ],
         "theta": [
          "strong 0",
          "strong 3",
          "strong 6",
          "strong 1",
          "strong 4",
          "strong 7",
          "strong 2",
          "strong 5",
          "strong 8",
          "strong 0"
         ],
         "type": "scatterpolar"
        }
       ],
       "layout": {
        "height": 400,
        "legend": {
         "traceorder": "reversed",
         "x": 1,
         "xanchor": "left",
         "y": 0.5
        },
        "margin": {
         "b": 20,
         "l": 10,
         "r": 100,
         "t": 60
        },
        "polar": {
         "angularaxis": {
          "direction": "clockwise",
          "rotation": 130
         },
         "gridshape": "linear",
         "radialaxis": {
          "angle": 90,
          "nticks": 4,
          "range": [
           0,
           0.6180073884257101
          ],
          "tickangle": 90
         }
        },
        "template": {
         "data": {
          "bar": [
           {
            "error_x": {
             "color": "#2a3f5f"
            },
            "error_y": {
             "color": "#2a3f5f"
            },
            "marker": {
             "line": {
              "color": "#E5ECF6",
              "width": 0.5
             },
             "pattern": {
              "fillmode": "overlay",
              "size": 10,
              "solidity": 0.2
             }
            },
            "type": "bar"
           }
          ],
          "barpolar": [
           {
            "marker": {
             "line": {
              "color": "#E5ECF6",
              "width": 0.5
             },
             "pattern": {
              "fillmode": "overlay",
              "size": 10,
              "solidity": 0.2
             }
            },
            "type": "barpolar"
           }
          ],
          "carpet": [
           {
            "aaxis": {
             "endlinecolor": "#2a3f5f",
             "gridcolor": "white",
             "linecolor": "white",
             "minorgridcolor": "white",
             "startlinecolor": "#2a3f5f"
            },
            "baxis": {
             "endlinecolor": "#2a3f5f",
             "gridcolor": "white",
             "linecolor": "white",
             "minorgridcolor": "white",
             "startlinecolor": "#2a3f5f"
            },
            "type": "carpet"
           }
          ],
          "choropleth": [
           {
            "colorbar": {
             "outlinewidth": 0,
             "ticks": ""
            },
            "type": "choropleth"
           }
          ],
          "contour": [
           {
            "colorbar": {
             "outlinewidth": 0,
             "ticks": ""
            },
            "colorscale": [
             [
              0,
              "#0d0887"
             ],
             [
              0.1111111111111111,
              "#46039f"
             ],
             [
              0.2222222222222222,
              "#7201a8"
             ],
             [
              0.3333333333333333,
              "#9c179e"
             ],
             [
              0.4444444444444444,
              "#bd3786"
             ],
             [
              0.5555555555555556,
              "#d8576b"
             ],
             [
              0.6666666666666666,
              "#ed7953"
             ],
             [
              0.7777777777777778,
              "#fb9f3a"
             ],
             [
              0.8888888888888888,
              "#fdca26"
             ],
             [
              1,
              "#f0f921"
             ]
            ],
            "type": "contour"
           }
          ],
          "contourcarpet": [
           {
            "colorbar": {
             "outlinewidth": 0,
             "ticks": ""
            },
            "type": "contourcarpet"
           }
          ],
          "heatmap": [
           {
            "colorbar": {
             "outlinewidth": 0,
             "ticks": ""
            },
            "colorscale": [
             [
              0,
              "#0d0887"
             ],
             [
              0.1111111111111111,
              "#46039f"
             ],
             [
              0.2222222222222222,
              "#7201a8"
             ],
             [
              0.3333333333333333,
              "#9c179e"
             ],
             [
              0.4444444444444444,
              "#bd3786"
             ],
             [
              0.5555555555555556,
              "#d8576b"
             ],
             [
              0.6666666666666666,
              "#ed7953"
             ],
             [
              0.7777777777777778,
              "#fb9f3a"
             ],
             [
              0.8888888888888888,
              "#fdca26"
             ],
             [
              1,
              "#f0f921"
             ]
            ],
            "type": "heatmap"
           }
          ],
          "heatmapgl": [
           {
            "colorbar": {
             "outlinewidth": 0,
             "ticks": ""
            },
            "colorscale": [
             [
              0,
              "#0d0887"
             ],
             [
              0.1111111111111111,
              "#46039f"
             ],
             [
              0.2222222222222222,
              "#7201a8"
             ],
             [
              0.3333333333333333,
              "#9c179e"
             ],
             [
              0.4444444444444444,
              "#bd3786"
             ],
             [
              0.5555555555555556,
              "#d8576b"
             ],
             [
              0.6666666666666666,
              "#ed7953"
             ],
             [
              0.7777777777777778,
              "#fb9f3a"
             ],
             [
              0.8888888888888888,
              "#fdca26"
             ],
             [
              1,
              "#f0f921"
             ]
            ],
            "type": "heatmapgl"
           }
          ],
          "histogram": [
           {
            "marker": {
             "pattern": {
              "fillmode": "overlay",
              "size": 10,
              "solidity": 0.2
             }
            },
            "type": "histogram"
           }
          ],
          "histogram2d": [
           {
            "colorbar": {
             "outlinewidth": 0,
             "ticks": ""
            },
            "colorscale": [
             [
              0,
              "#0d0887"
             ],
             [
              0.1111111111111111,
              "#46039f"
             ],
             [
              0.2222222222222222,
              "#7201a8"
             ],
             [
              0.3333333333333333,
              "#9c179e"
             ],
             [
              0.4444444444444444,
              "#bd3786"
             ],
             [
              0.5555555555555556,
              "#d8576b"
             ],
             [
              0.6666666666666666,
              "#ed7953"
             ],
             [
              0.7777777777777778,
              "#fb9f3a"
             ],
             [
              0.8888888888888888,
              "#fdca26"
             ],
             [
              1,
              "#f0f921"
             ]
            ],
            "type": "histogram2d"
           }
          ],
          "histogram2dcontour": [
           {
            "colorbar": {
             "outlinewidth": 0,
             "ticks": ""
            },
            "colorscale": [
             [
              0,
              "#0d0887"
             ],
             [
              0.1111111111111111,
              "#46039f"
             ],
             [
              0.2222222222222222,
              "#7201a8"
             ],
             [
              0.3333333333333333,
              "#9c179e"
             ],
             [
              0.4444444444444444,
              "#bd3786"
             ],
             [
              0.5555555555555556,
              "#d8576b"
             ],
             [
              0.6666666666666666,
              "#ed7953"
             ],
             [
              0.7777777777777778,
              "#fb9f3a"
             ],
             [
              0.8888888888888888,
              "#fdca26"
             ],
             [
              1,
              "#f0f921"
             ]
            ],
            "type": "histogram2dcontour"
           }
          ],
          "mesh3d": [
           {
            "colorbar": {
             "outlinewidth": 0,
             "ticks": ""
            },
            "type": "mesh3d"
           }
          ],
          "parcoords": [
           {
            "line": {
             "colorbar": {
              "outlinewidth": 0,
              "ticks": ""
             }
            },
            "type": "parcoords"
           }
          ],
          "pie": [
           {
            "automargin": true,
            "type": "pie"
           }
          ],
          "scatter": [
           {
            "marker": {
             "colorbar": {
              "outlinewidth": 0,
              "ticks": ""
             }
            },
            "type": "scatter"
           }
          ],
          "scatter3d": [
           {
            "line": {
             "colorbar": {
              "outlinewidth": 0,
              "ticks": ""
             }
            },
            "marker": {
             "colorbar": {
              "outlinewidth": 0,
              "ticks": ""
             }
            },
            "type": "scatter3d"
           }
          ],
          "scattercarpet": [
           {
            "marker": {
             "colorbar": {
              "outlinewidth": 0,
              "ticks": ""
             }
            },
            "type": "scattercarpet"
           }
          ],
          "scattergeo": [
           {
            "marker": {
             "colorbar": {
              "outlinewidth": 0,
              "ticks": ""
             }
            },
            "type": "scattergeo"
           }
          ],
          "scattergl": [
           {
            "marker": {
             "colorbar": {
              "outlinewidth": 0,
              "ticks": ""
             }
            },
            "type": "scattergl"
           }
          ],
          "scattermapbox": [
           {
            "marker": {
             "colorbar": {
              "outlinewidth": 0,
              "ticks": ""
             }
            },
            "type": "scattermapbox"
           }
          ],
          "scatterpolar": [
           {
            "marker": {
             "colorbar": {
              "outlinewidth": 0,
              "ticks": ""
             }
            },
            "type": "scatterpolar"
           }
          ],
          "scatterpolargl": [
           {
            "marker": {
             "colorbar": {
              "outlinewidth": 0,
              "ticks": ""
             }
            },
            "type": "scatterpolargl"
           }
          ],
          "scatterternary": [
           {
            "marker": {
             "colorbar": {
              "outlinewidth": 0,
              "ticks": ""
             }
            },
            "type": "scatterternary"
           }
          ],
          "surface": [
           {
            "colorbar": {
             "outlinewidth": 0,
             "ticks": ""
            },
            "colorscale": [
             [
              0,
              "#0d0887"
             ],
             [
              0.1111111111111111,
              "#46039f"
             ],
             [
              0.2222222222222222,
              "#7201a8"
             ],
             [
              0.3333333333333333,
              "#9c179e"
             ],
             [
              0.4444444444444444,
              "#bd3786"
             ],
             [
              0.5555555555555556,
              "#d8576b"
             ],
             [
              0.6666666666666666,
              "#ed7953"
             ],
             [
              0.7777777777777778,
              "#fb9f3a"
             ],
             [
              0.8888888888888888,
              "#fdca26"
             ],
             [
              1,
              "#f0f921"
             ]
            ],
            "type": "surface"
           }
          ],
          "table": [
           {
            "cells": {
             "fill": {
              "color": "#EBF0F8"
             },
             "line": {
              "color": "white"
             }
            },
            "header": {
             "fill": {
              "color": "#C8D4E3"
             },
             "line": {
              "color": "white"
             }
            },
            "type": "table"
           }
          ]
         },
         "layout": {
          "annotationdefaults": {
           "arrowcolor": "#2a3f5f",
           "arrowhead": 0,
           "arrowwidth": 1
          },
          "autotypenumbers": "strict",
          "coloraxis": {
           "colorbar": {
            "outlinewidth": 0,
            "ticks": ""
           }
          },
          "colorscale": {
           "diverging": [
            [
             0,
             "#8e0152"
            ],
            [
             0.1,
             "#c51b7d"
            ],
            [
             0.2,
             "#de77ae"
            ],
            [
             0.3,
             "#f1b6da"
            ],
            [
             0.4,
             "#fde0ef"
            ],
            [
             0.5,
             "#f7f7f7"
            ],
            [
             0.6,
             "#e6f5d0"
            ],
            [
             0.7,
             "#b8e186"
            ],
            [
             0.8,
             "#7fbc41"
            ],
            [
             0.9,
             "#4d9221"
            ],
            [
             1,
             "#276419"
            ]
           ],
           "sequential": [
            [
             0,
             "#0d0887"
            ],
            [
             0.1111111111111111,
             "#46039f"
            ],
            [
             0.2222222222222222,
             "#7201a8"
            ],
            [
             0.3333333333333333,
             "#9c179e"
            ],
            [
             0.4444444444444444,
             "#bd3786"
            ],
            [
             0.5555555555555556,
             "#d8576b"
            ],
            [
             0.6666666666666666,
             "#ed7953"
            ],
            [
             0.7777777777777778,
             "#fb9f3a"
            ],
            [
             0.8888888888888888,
             "#fdca26"
            ],
            [
             1,
             "#f0f921"
            ]
           ],
           "sequentialminus": [
            [
             0,
             "#0d0887"
            ],
            [
             0.1111111111111111,
             "#46039f"
            ],
            [
             0.2222222222222222,
             "#7201a8"
            ],
            [
             0.3333333333333333,
             "#9c179e"
            ],
            [
             0.4444444444444444,
             "#bd3786"
            ],
            [
             0.5555555555555556,
             "#d8576b"
            ],
            [
             0.6666666666666666,
             "#ed7953"
            ],
            [
             0.7777777777777778,
             "#fb9f3a"
            ],
            [
             0.8888888888888888,
             "#fdca26"
            ],
            [
             1,
             "#f0f921"
            ]
           ]
          },
          "colorway": [
           "#636efa",
           "#EF553B",
           "#00cc96",
           "#ab63fa",
           "#FFA15A",
           "#19d3f3",
           "#FF6692",
           "#B6E880",
           "#FF97FF",
           "#FECB52"
          ],
          "font": {
           "color": "#2a3f5f"
          },
          "geo": {
           "bgcolor": "white",
           "lakecolor": "white",
           "landcolor": "#E5ECF6",
           "showlakes": true,
           "showland": true,
           "subunitcolor": "white"
          },
          "hoverlabel": {
           "align": "left"
          },
          "hovermode": "closest",
          "mapbox": {
           "style": "light"
          },
          "paper_bgcolor": "white",
          "plot_bgcolor": "#E5ECF6",
          "polar": {
           "angularaxis": {
            "gridcolor": "white",
            "linecolor": "white",
            "ticks": ""
           },
           "bgcolor": "#E5ECF6",
           "radialaxis": {
            "gridcolor": "white",
            "linecolor": "white",
            "ticks": ""
           }
          },
          "scene": {
           "xaxis": {
            "backgroundcolor": "#E5ECF6",
            "gridcolor": "white",
            "gridwidth": 2,
            "linecolor": "white",
            "showbackground": true,
            "ticks": "",
            "zerolinecolor": "white"
           },
           "yaxis": {
            "backgroundcolor": "#E5ECF6",
            "gridcolor": "white",
            "gridwidth": 2,
            "linecolor": "white",
            "showbackground": true,
            "ticks": "",
            "zerolinecolor": "white"
           },
           "zaxis": {
            "backgroundcolor": "#E5ECF6",
            "gridcolor": "white",
            "gridwidth": 2,
            "linecolor": "white",
            "showbackground": true,
            "ticks": "",
            "zerolinecolor": "white"
           }
          },
          "shapedefaults": {
           "line": {
            "color": "#2a3f5f"
           }
          },
          "ternary": {
           "aaxis": {
            "gridcolor": "white",
            "linecolor": "white",
            "ticks": ""
           },
           "baxis": {
            "gridcolor": "white",
            "linecolor": "white",
            "ticks": ""
           },
           "bgcolor": "#E5ECF6",
           "caxis": {
            "gridcolor": "white",
            "linecolor": "white",
            "ticks": ""
           }
          },
          "title": {
           "x": 0.05
          },
          "xaxis": {
           "automargin": true,
           "gridcolor": "white",
           "linecolor": "white",
           "ticks": "",
           "title": {
            "standoff": 15
           },
           "zerolinecolor": "white",
           "zerolinewidth": 2
          },
          "yaxis": {
           "automargin": true,
           "gridcolor": "white",
           "linecolor": "white",
           "ticks": "",
           "title": {
            "standoff": 15
           },
           "zerolinecolor": "white",
           "zerolinewidth": 2
          }
         }
        },
        "title": {
         "text": "Cosine similarity between PCs and direction vectors",
         "x": 0.5
        },
        "width": 600
       }
      }
     },
     "metadata": {},
     "output_type": "display_data"
    },
    {
     "data": {
      "application/vnd.plotly.v1+json": {
       "config": {
        "plotlyServerURL": "https://plot.ly"
       },
       "data": [
        {
         "legendgroup": "0",
         "legendgrouptitle": {
          "text": "intrinsic assembly 0"
         },
         "line": {
          "color": "rgb(255, 0, 0)"
         },
         "mode": "lines",
         "name": "strong 0",
         "r": [
          0.27989866266444613,
          0.17619893069422596,
          0.4952540128551561,
          0.07223196995846998,
          0.1449384331825872,
          0.5141116817221804,
          0.1885816555107787,
          0.0314261309293047,
          0.21342118719265374,
          0.13529695116085744,
          0.27989866266444613
         ],
         "subplot": "polar",
         "theta": [
          "PC 0",
          "PC 1",
          "PC 2",
          "PC 3",
          "PC 4",
          "PC 5",
          "PC 6",
          "PC 7",
          "PC 8",
          "PC 9",
          "PC 0"
         ],
         "type": "scatterpolar"
        },
        {
         "legendgroup": "0",
         "legendgrouptitle": {
          "text": "intrinsic assembly 0"
         },
         "line": {
          "color": "rgb(44, 255, 150)"
         },
         "mode": "lines",
         "name": "strong 3",
         "r": [
          0.23673839506953095,
          0.4598288631028697,
          0.019506774385267187,
          0.4851141279578393,
          0.11770970855853319,
          0.05202595748840625,
          0.3863738350317742,
          0.10272634896858437,
          0.16304926533192263,
          0.14866565785343264,
          0.23673839506953095
         ],
         "subplot": "polar",
         "theta": [
          "PC 0",
          "PC 1",
          "PC 2",
          "PC 3",
          "PC 4",
          "PC 5",
          "PC 6",
          "PC 7",
          "PC 8",
          "PC 9",
          "PC 0"
         ],
         "type": "scatterpolar"
        },
        {
         "legendgroup": "0",
         "legendgrouptitle": {
          "text": "intrinsic assembly 0"
         },
         "line": {
          "color": "rgb(150, 0, 90)"
         },
         "mode": "lines",
         "name": "strong 6",
         "r": [
          0.33759562653338415,
          0.018595128260477507,
          0.4902427662314906,
          0.02407438218462651,
          0.23058970372505544,
          0.3697837882640657,
          0.03197333180133898,
          0.36415525427827744,
          0.1719488619567113,
          0.16276196445604552,
          0.33759562653338415
         ],
         "subplot": "polar",
         "theta": [
          "PC 0",
          "PC 1",
          "PC 2",
          "PC 3",
          "PC 4",
          "PC 5",
          "PC 6",
          "PC 7",
          "PC 8",
          "PC 9",
          "PC 0"
         ],
         "type": "scatterpolar"
        },
        {
         "legendgroup": "1",
         "legendgrouptitle": {
          "text": "intrinsic assembly 1"
         },
         "line": {
          "color": "rgb(255, 0, 0)"
         },
         "mode": "lines",
         "name": "strong 1",
         "r": [
          0.48881252201417424,
          0.3071500068396404,
          0.08776543861097902,
          0.3858388852244745,
          0.026374478391842895,
          0.27227129024234753,
          0.34618854197739496,
          0.10311274268509038,
          0.1743722277346974,
          0.14305774103675237,
          0.48881252201417424
         ],
         "subplot": "polar2",
         "theta": [
          "PC 0",
          "PC 1",
          "PC 2",
          "PC 3",
          "PC 4",
          "PC 5",
          "PC 6",
          "PC 7",
          "PC 8",
          "PC 9",
          "PC 0"
         ],
         "type": "scatterpolar"
        },
        {
         "legendgroup": "1",
         "legendgrouptitle": {
          "text": "intrinsic assembly 1"
         },
         "line": {
          "color": "rgb(44, 255, 150)"
         },
         "mode": "lines",
         "name": "strong 4",
         "r": [
          0.03220799357249858,
          0.47590499515784307,
          0.1980398484017092,
          0.23017316188326145,
          0.4525718328732345,
          0.024983242546367735,
          0.2890277892835094,
          0.254439703704163,
          0.17177008901900942,
          0.16092653443706262,
          0.03220799357249858
         ],
         "subplot": "polar2",
         "theta": [
          "PC 0",
          "PC 1",
          "PC 2",
          "PC 3",
          "PC 4",
          "PC 5",
          "PC 6",
          "PC 7",
          "PC 8",
          "PC 9",
          "PC 0"
         ],
         "type": "scatterpolar"
        },
        {
         "legendgroup": "1",
         "legendgrouptitle": {
          "text": "intrinsic assembly 1"
         },
         "line": {
          "color": "rgb(150, 0, 90)"
         },
         "mode": "lines",
         "name": "strong 7",
         "r": [
          0.18068779504083207,
          0.16420562331118657,
          0.02538066097188512,
          0.0850730594224031,
          0.2843121796706454,
          0.35137764660003956,
          0.1470413426079518,
          0.6180073884257101,
          0.20128998254505684,
          0.1491030788427492,
          0.18068779504083207
         ],
         "subplot": "polar2",
         "theta": [
          "PC 0",
          "PC 1",
          "PC 2",
          "PC 3",
          "PC 4",
          "PC 5",
          "PC 6",
          "PC 7",
          "PC 8",
          "PC 9",
          "PC 0"
         ],
         "type": "scatterpolar"
        },
        {
         "legendgroup": "2",
         "legendgrouptitle": {
          "text": "intrinsic assembly 2"
         },
         "line": {
          "color": "rgb(255, 0, 0)"
         },
         "mode": "lines",
         "name": "strong 2",
         "r": [
          0.17162832692889993,
          0.08078277549170772,
          0.34146724533385026,
          0.10763495223759646,
          0.5260504901425982,
          0.013424686894328646,
          0.4881499926623645,
          0.0015043025547269095,
          0.18810088241512704,
          0.14585560943077377,
          0.17162832692889993
         ],
         "subplot": "polar3",
         "theta": [
          "PC 0",
          "PC 1",
          "PC 2",
          "PC 3",
          "PC 4",
          "PC 5",
          "PC 6",
          "PC 7",
          "PC 8",
          "PC 9",
          "PC 0"
         ],
         "type": "scatterpolar"
        },
        {
         "legendgroup": "2",
         "legendgrouptitle": {
          "text": "intrinsic assembly 2"
         },
         "line": {
          "color": "rgb(44, 255, 150)"
         },
         "mode": "lines",
         "name": "strong 5",
         "r": [
          0.33631671623143256,
          0.17664865535108124,
          0.07275306816153723,
          0.449369689882704,
          0.2730790320813052,
          0.35815918851451456,
          0.2522317261367376,
          0.26254152073730397,
          0.17054758917308632,
          0.15017207424249293,
          0.33631671623143256
         ],
         "subplot": "polar3",
         "theta": [
          "PC 0",
          "PC 1",
          "PC 2",
          "PC 3",
          "PC 4",
          "PC 5",
          "PC 6",
          "PC 7",
          "PC 8",
          "PC 9",
          "PC 0"
         ],
         "type": "scatterpolar"
        },
        {
         "legendgroup": "2",
         "legendgrouptitle": {
          "text": "intrinsic assembly 2"
         },
         "line": {
          "color": "rgb(150, 0, 90)"
         },
         "mode": "lines",
         "name": "strong 8",
         "r": [
          0.3256856560908268,
          0.36387914185031783,
          0.3413221996846563,
          0.31810839541725566,
          0.2006808908916327,
          0.1961765409738025,
          0.20741614986841841,
          0.2967085987847065,
          0.18959166798589155,
          0.16155120730322295,
          0.3256856560908268
         ],
         "subplot": "polar3",
         "theta": [
          "PC 0",
          "PC 1",
          "PC 2",
          "PC 3",
          "PC 4",
          "PC 5",
          "PC 6",
          "PC 7",
          "PC 8",
          "PC 9",
          "PC 0"
         ],
         "type": "scatterpolar"
        }
       ],
       "layout": {
        "annotations": [
         {
          "font": {
           "size": 16
          },
          "showarrow": false,
          "text": "intrinsic assembly 0",
          "x": 0.16666666666666666,
          "xanchor": "center",
          "xref": "paper",
          "y": 1.08,
          "yanchor": "bottom",
          "yref": "paper"
         },
         {
          "font": {
           "size": 16
          },
          "showarrow": false,
          "text": "intrinsic assembly 1",
          "x": 0.5,
          "xanchor": "center",
          "xref": "paper",
          "y": 1.08,
          "yanchor": "bottom",
          "yref": "paper"
         },
         {
          "font": {
           "size": 16
          },
          "showarrow": false,
          "text": "intrinsic assembly 2",
          "x": 0.8333333333333333,
          "xanchor": "center",
          "xref": "paper",
          "y": 1.08,
          "yanchor": "bottom",
          "yref": "paper"
         }
        ],
        "height": 360,
        "legend": {
         "x": 1,
         "xanchor": "left",
         "y": 0.5
        },
        "margin": {
         "b": 30,
         "l": 10,
         "r": 120,
         "t": 50
        },
        "polar": {
         "angularaxis": {
          "direction": "clockwise",
          "rotation": 90
         },
         "domain": {
          "x": [
           0,
           0.3333333333333333
          ],
          "y": [
           0,
           1
          ]
         },
         "gridshape": "linear",
         "radialaxis": {
          "angle": 90,
          "nticks": 4,
          "range": [
           0,
           0.6180073884257101
          ],
          "tickangle": 90
         }
        },
        "polar2": {
         "angularaxis": {
          "direction": "clockwise",
          "rotation": 90
         },
         "domain": {
          "x": [
           0.3333333333333333,
           0.6666666666666666
          ],
          "y": [
           0,
           1
          ]
         },
         "gridshape": "linear",
         "radialaxis": {
          "angle": 90,
          "nticks": 4,
          "range": [
           0,
           0.6180073884257101
          ],
          "tickangle": 90
         }
        },
        "polar3": {
         "angularaxis": {
          "direction": "clockwise",
          "rotation": 90
         },
         "domain": {
          "x": [
           0.6666666666666666,
           1
          ],
          "y": [
           0,
           1
          ]
         },
         "gridshape": "linear",
         "radialaxis": {
          "angle": 90,
          "nticks": 4,
          "range": [
           0,
           0.6180073884257101
          ],
          "tickangle": 90
         }
        },
        "template": {
         "data": {
          "bar": [
           {
            "error_x": {
             "color": "#2a3f5f"
            },
            "error_y": {
             "color": "#2a3f5f"
            },
            "marker": {
             "line": {
              "color": "#E5ECF6",
              "width": 0.5
             },
             "pattern": {
              "fillmode": "overlay",
              "size": 10,
              "solidity": 0.2
             }
            },
            "type": "bar"
           }
          ],
          "barpolar": [
           {
            "marker": {
             "line": {
              "color": "#E5ECF6",
              "width": 0.5
             },
             "pattern": {
              "fillmode": "overlay",
              "size": 10,
              "solidity": 0.2
             }
            },
            "type": "barpolar"
           }
          ],
          "carpet": [
           {
            "aaxis": {
             "endlinecolor": "#2a3f5f",
             "gridcolor": "white",
             "linecolor": "white",
             "minorgridcolor": "white",
             "startlinecolor": "#2a3f5f"
            },
            "baxis": {
             "endlinecolor": "#2a3f5f",
             "gridcolor": "white",
             "linecolor": "white",
             "minorgridcolor": "white",
             "startlinecolor": "#2a3f5f"
            },
            "type": "carpet"
           }
          ],
          "choropleth": [
           {
            "colorbar": {
             "outlinewidth": 0,
             "ticks": ""
            },
            "type": "choropleth"
           }
          ],
          "contour": [
           {
            "colorbar": {
             "outlinewidth": 0,
             "ticks": ""
            },
            "colorscale": [
             [
              0,
              "#0d0887"
             ],
             [
              0.1111111111111111,
              "#46039f"
             ],
             [
              0.2222222222222222,
              "#7201a8"
             ],
             [
              0.3333333333333333,
              "#9c179e"
             ],
             [
              0.4444444444444444,
              "#bd3786"
             ],
             [
              0.5555555555555556,
              "#d8576b"
             ],
             [
              0.6666666666666666,
              "#ed7953"
             ],
             [
              0.7777777777777778,
              "#fb9f3a"
             ],
             [
              0.8888888888888888,
              "#fdca26"
             ],
             [
              1,
              "#f0f921"
             ]
            ],
            "type": "contour"
           }
          ],
          "contourcarpet": [
           {
            "colorbar": {
             "outlinewidth": 0,
             "ticks": ""
            },
            "type": "contourcarpet"
           }
          ],
          "heatmap": [
           {
            "colorbar": {
             "outlinewidth": 0,
             "ticks": ""
            },
            "colorscale": [
             [
              0,
              "#0d0887"
             ],
             [
              0.1111111111111111,
              "#46039f"
             ],
             [
              0.2222222222222222,
              "#7201a8"
             ],
             [
              0.3333333333333333,
              "#9c179e"
             ],
             [
              0.4444444444444444,
              "#bd3786"
             ],
             [
              0.5555555555555556,
              "#d8576b"
             ],
             [
              0.6666666666666666,
              "#ed7953"
             ],
             [
              0.7777777777777778,
              "#fb9f3a"
             ],
             [
              0.8888888888888888,
              "#fdca26"
             ],
             [
              1,
              "#f0f921"
             ]
            ],
            "type": "heatmap"
           }
          ],
          "heatmapgl": [
           {
            "colorbar": {
             "outlinewidth": 0,
             "ticks": ""
            },
            "colorscale": [
             [
              0,
              "#0d0887"
             ],
             [
              0.1111111111111111,
              "#46039f"
             ],
             [
              0.2222222222222222,
              "#7201a8"
             ],
             [
              0.3333333333333333,
              "#9c179e"
             ],
             [
              0.4444444444444444,
              "#bd3786"
             ],
             [
              0.5555555555555556,
              "#d8576b"
             ],
             [
              0.6666666666666666,
              "#ed7953"
             ],
             [
              0.7777777777777778,
              "#fb9f3a"
             ],
             [
              0.8888888888888888,
              "#fdca26"
             ],
             [
              1,
              "#f0f921"
             ]
            ],
            "type": "heatmapgl"
           }
          ],
          "histogram": [
           {
            "marker": {
             "pattern": {
              "fillmode": "overlay",
              "size": 10,
              "solidity": 0.2
             }
            },
            "type": "histogram"
           }
          ],
          "histogram2d": [
           {
            "colorbar": {
             "outlinewidth": 0,
             "ticks": ""
            },
            "colorscale": [
             [
              0,
              "#0d0887"
             ],
             [
              0.1111111111111111,
              "#46039f"
             ],
             [
              0.2222222222222222,
              "#7201a8"
             ],
             [
              0.3333333333333333,
              "#9c179e"
             ],
             [
              0.4444444444444444,
              "#bd3786"
             ],
             [
              0.5555555555555556,
              "#d8576b"
             ],
             [
              0.6666666666666666,
              "#ed7953"
             ],
             [
              0.7777777777777778,
              "#fb9f3a"
             ],
             [
              0.8888888888888888,
              "#fdca26"
             ],
             [
              1,
              "#f0f921"
             ]
            ],
            "type": "histogram2d"
           }
          ],
          "histogram2dcontour": [
           {
            "colorbar": {
             "outlinewidth": 0,
             "ticks": ""
            },
            "colorscale": [
             [
              0,
              "#0d0887"
             ],
             [
              0.1111111111111111,
              "#46039f"
             ],
             [
              0.2222222222222222,
              "#7201a8"
             ],
             [
              0.3333333333333333,
              "#9c179e"
             ],
             [
              0.4444444444444444,
              "#bd3786"
             ],
             [
              0.5555555555555556,
              "#d8576b"
             ],
             [
              0.6666666666666666,
              "#ed7953"
             ],
             [
              0.7777777777777778,
              "#fb9f3a"
             ],
             [
              0.8888888888888888,
              "#fdca26"
             ],
             [
              1,
              "#f0f921"
             ]
            ],
            "type": "histogram2dcontour"
           }
          ],
          "mesh3d": [
           {
            "colorbar": {
             "outlinewidth": 0,
             "ticks": ""
            },
            "type": "mesh3d"
           }
          ],
          "parcoords": [
           {
            "line": {
             "colorbar": {
              "outlinewidth": 0,
              "ticks": ""
             }
            },
            "type": "parcoords"
           }
          ],
          "pie": [
           {
            "automargin": true,
            "type": "pie"
           }
          ],
          "scatter": [
           {
            "marker": {
             "colorbar": {
              "outlinewidth": 0,
              "ticks": ""
             }
            },
            "type": "scatter"
           }
          ],
          "scatter3d": [
           {
            "line": {
             "colorbar": {
              "outlinewidth": 0,
              "ticks": ""
             }
            },
            "marker": {
             "colorbar": {
              "outlinewidth": 0,
              "ticks": ""
             }
            },
            "type": "scatter3d"
           }
          ],
          "scattercarpet": [
           {
            "marker": {
             "colorbar": {
              "outlinewidth": 0,
              "ticks": ""
             }
            },
            "type": "scattercarpet"
           }
          ],
          "scattergeo": [
           {
            "marker": {
             "colorbar": {
              "outlinewidth": 0,
              "ticks": ""
             }
            },
            "type": "scattergeo"
           }
          ],
          "scattergl": [
           {
            "marker": {
             "colorbar": {
              "outlinewidth": 0,
              "ticks": ""
             }
            },
            "type": "scattergl"
           }
          ],
          "scattermapbox": [
           {
            "marker": {
             "colorbar": {
              "outlinewidth": 0,
              "ticks": ""
             }
            },
            "type": "scattermapbox"
           }
          ],
          "scatterpolar": [
           {
            "marker": {
             "colorbar": {
              "outlinewidth": 0,
              "ticks": ""
             }
            },
            "type": "scatterpolar"
           }
          ],
          "scatterpolargl": [
           {
            "marker": {
             "colorbar": {
              "outlinewidth": 0,
              "ticks": ""
             }
            },
            "type": "scatterpolargl"
           }
          ],
          "scatterternary": [
           {
            "marker": {
             "colorbar": {
              "outlinewidth": 0,
              "ticks": ""
             }
            },
            "type": "scatterternary"
           }
          ],
          "surface": [
           {
            "colorbar": {
             "outlinewidth": 0,
             "ticks": ""
            },
            "colorscale": [
             [
              0,
              "#0d0887"
             ],
             [
              0.1111111111111111,
              "#46039f"
             ],
             [
              0.2222222222222222,
              "#7201a8"
             ],
             [
              0.3333333333333333,
              "#9c179e"
             ],
             [
              0.4444444444444444,
              "#bd3786"
             ],
             [
              0.5555555555555556,
              "#d8576b"
             ],
             [
              0.6666666666666666,
              "#ed7953"
             ],
             [
              0.7777777777777778,
              "#fb9f3a"
             ],
             [
              0.8888888888888888,
              "#fdca26"
             ],
             [
              1,
              "#f0f921"
             ]
            ],
            "type": "surface"
           }
          ],
          "table": [
           {
            "cells": {
             "fill": {
              "color": "#EBF0F8"
             },
             "line": {
              "color": "white"
             }
            },
            "header": {
             "fill": {
              "color": "#C8D4E3"
             },
             "line": {
              "color": "white"
             }
            },
            "type": "table"
           }
          ]
         },
         "layout": {
          "annotationdefaults": {
           "arrowcolor": "#2a3f5f",
           "arrowhead": 0,
           "arrowwidth": 1
          },
          "autotypenumbers": "strict",
          "coloraxis": {
           "colorbar": {
            "outlinewidth": 0,
            "ticks": ""
           }
          },
          "colorscale": {
           "diverging": [
            [
             0,
             "#8e0152"
            ],
            [
             0.1,
             "#c51b7d"
            ],
            [
             0.2,
             "#de77ae"
            ],
            [
             0.3,
             "#f1b6da"
            ],
            [
             0.4,
             "#fde0ef"
            ],
            [
             0.5,
             "#f7f7f7"
            ],
            [
             0.6,
             "#e6f5d0"
            ],
            [
             0.7,
             "#b8e186"
            ],
            [
             0.8,
             "#7fbc41"
            ],
            [
             0.9,
             "#4d9221"
            ],
            [
             1,
             "#276419"
            ]
           ],
           "sequential": [
            [
             0,
             "#0d0887"
            ],
            [
             0.1111111111111111,
             "#46039f"
            ],
            [
             0.2222222222222222,
             "#7201a8"
            ],
            [
             0.3333333333333333,
             "#9c179e"
            ],
            [
             0.4444444444444444,
             "#bd3786"
            ],
            [
             0.5555555555555556,
             "#d8576b"
            ],
            [
             0.6666666666666666,
             "#ed7953"
            ],
            [
             0.7777777777777778,
             "#fb9f3a"
            ],
            [
             0.8888888888888888,
             "#fdca26"
            ],
            [
             1,
             "#f0f921"
            ]
           ],
           "sequentialminus": [
            [
             0,
             "#0d0887"
            ],
            [
             0.1111111111111111,
             "#46039f"
            ],
            [
             0.2222222222222222,
             "#7201a8"
            ],
            [
             0.3333333333333333,
             "#9c179e"
            ],
            [
             0.4444444444444444,
             "#bd3786"
            ],
            [
             0.5555555555555556,
             "#d8576b"
            ],
            [
             0.6666666666666666,
             "#ed7953"
            ],
            [
             0.7777777777777778,
             "#fb9f3a"
            ],
            [
             0.8888888888888888,
             "#fdca26"
            ],
            [
             1,
             "#f0f921"
            ]
           ]
          },
          "colorway": [
           "#636efa",
           "#EF553B",
           "#00cc96",
           "#ab63fa",
           "#FFA15A",
           "#19d3f3",
           "#FF6692",
           "#B6E880",
           "#FF97FF",
           "#FECB52"
          ],
          "font": {
           "color": "#2a3f5f"
          },
          "geo": {
           "bgcolor": "white",
           "lakecolor": "white",
           "landcolor": "#E5ECF6",
           "showlakes": true,
           "showland": true,
           "subunitcolor": "white"
          },
          "hoverlabel": {
           "align": "left"
          },
          "hovermode": "closest",
          "mapbox": {
           "style": "light"
          },
          "paper_bgcolor": "white",
          "plot_bgcolor": "#E5ECF6",
          "polar": {
           "angularaxis": {
            "gridcolor": "white",
            "linecolor": "white",
            "ticks": ""
           },
           "bgcolor": "#E5ECF6",
           "radialaxis": {
            "gridcolor": "white",
            "linecolor": "white",
            "ticks": ""
           }
          },
          "scene": {
           "xaxis": {
            "backgroundcolor": "#E5ECF6",
            "gridcolor": "white",
            "gridwidth": 2,
            "linecolor": "white",
            "showbackground": true,
            "ticks": "",
            "zerolinecolor": "white"
           },
           "yaxis": {
            "backgroundcolor": "#E5ECF6",
            "gridcolor": "white",
            "gridwidth": 2,
            "linecolor": "white",
            "showbackground": true,
            "ticks": "",
            "zerolinecolor": "white"
           },
           "zaxis": {
            "backgroundcolor": "#E5ECF6",
            "gridcolor": "white",
            "gridwidth": 2,
            "linecolor": "white",
            "showbackground": true,
            "ticks": "",
            "zerolinecolor": "white"
           }
          },
          "shapedefaults": {
           "line": {
            "color": "#2a3f5f"
           }
          },
          "ternary": {
           "aaxis": {
            "gridcolor": "white",
            "linecolor": "white",
            "ticks": ""
           },
           "baxis": {
            "gridcolor": "white",
            "linecolor": "white",
            "ticks": ""
           },
           "bgcolor": "#E5ECF6",
           "caxis": {
            "gridcolor": "white",
            "linecolor": "white",
            "ticks": ""
           }
          },
          "title": {
           "x": 0.05
          },
          "xaxis": {
           "automargin": true,
           "gridcolor": "white",
           "linecolor": "white",
           "ticks": "",
           "title": {
            "standoff": 15
           },
           "zerolinecolor": "white",
           "zerolinewidth": 2
          },
          "yaxis": {
           "automargin": true,
           "gridcolor": "white",
           "linecolor": "white",
           "ticks": "",
           "title": {
            "standoff": 15
           },
           "zerolinecolor": "white",
           "zerolinewidth": 2
          }
         }
        },
        "width": 1200
       }
      }
     },
     "metadata": {},
     "output_type": "display_data"
    },
    {
     "name": "stdout",
     "output_type": "stream",
     "text": [
      "Alignment (cosine similarity) between PCs and direction vectors\n"
     ]
    },
    {
     "data": {
      "text/html": [
       "<div>\n",
       "<style scoped>\n",
       "    .dataframe tbody tr th:only-of-type {\n",
       "        vertical-align: middle;\n",
       "    }\n",
       "\n",
       "    .dataframe tbody tr th {\n",
       "        vertical-align: top;\n",
       "    }\n",
       "\n",
       "    .dataframe thead th {\n",
       "        text-align: right;\n",
       "    }\n",
       "</style>\n",
       "<table border=\"1\" class=\"dataframe\">\n",
       "  <thead>\n",
       "    <tr style=\"text-align: right;\">\n",
       "      <th></th>\n",
       "      <th>strong 0</th>\n",
       "      <th>strong 3</th>\n",
       "      <th>strong 6</th>\n",
       "      <th>strong 1</th>\n",
       "      <th>strong 4</th>\n",
       "      <th>strong 7</th>\n",
       "      <th>strong 2</th>\n",
       "      <th>strong 5</th>\n",
       "      <th>strong 8</th>\n",
       "      <th>max</th>\n",
       "      <th>max_group</th>\n",
       "      <th>total projection</th>\n",
       "    </tr>\n",
       "    <tr>\n",
       "      <th>PCs</th>\n",
       "      <th></th>\n",
       "      <th></th>\n",
       "      <th></th>\n",
       "      <th></th>\n",
       "      <th></th>\n",
       "      <th></th>\n",
       "      <th></th>\n",
       "      <th></th>\n",
       "      <th></th>\n",
       "      <th></th>\n",
       "      <th></th>\n",
       "      <th></th>\n",
       "    </tr>\n",
       "  </thead>\n",
       "  <tbody>\n",
       "    <tr>\n",
       "      <th>0</th>\n",
       "      <td>0.280</td>\n",
       "      <td>0.237</td>\n",
       "      <td>0.338</td>\n",
       "      <td>0.489</td>\n",
       "      <td>0.032</td>\n",
       "      <td>0.181</td>\n",
       "      <td>0.172</td>\n",
       "      <td>0.336</td>\n",
       "      <td>0.326</td>\n",
       "      <td>0.489</td>\n",
       "      <td>strong 1</td>\n",
       "      <td>0.877</td>\n",
       "    </tr>\n",
       "    <tr>\n",
       "      <th>1</th>\n",
       "      <td>0.176</td>\n",
       "      <td>0.460</td>\n",
       "      <td>0.019</td>\n",
       "      <td>0.307</td>\n",
       "      <td>0.476</td>\n",
       "      <td>0.164</td>\n",
       "      <td>0.081</td>\n",
       "      <td>0.177</td>\n",
       "      <td>0.364</td>\n",
       "      <td>0.476</td>\n",
       "      <td>strong 4</td>\n",
       "      <td>0.872</td>\n",
       "    </tr>\n",
       "    <tr>\n",
       "      <th>2</th>\n",
       "      <td>0.495</td>\n",
       "      <td>0.020</td>\n",
       "      <td>0.490</td>\n",
       "      <td>0.088</td>\n",
       "      <td>0.198</td>\n",
       "      <td>0.025</td>\n",
       "      <td>0.341</td>\n",
       "      <td>0.073</td>\n",
       "      <td>0.341</td>\n",
       "      <td>0.495</td>\n",
       "      <td>strong 0</td>\n",
       "      <td>0.879</td>\n",
       "    </tr>\n",
       "    <tr>\n",
       "      <th>3</th>\n",
       "      <td>0.072</td>\n",
       "      <td>0.485</td>\n",
       "      <td>0.024</td>\n",
       "      <td>0.386</td>\n",
       "      <td>0.230</td>\n",
       "      <td>0.085</td>\n",
       "      <td>0.108</td>\n",
       "      <td>0.449</td>\n",
       "      <td>0.318</td>\n",
       "      <td>0.485</td>\n",
       "      <td>strong 3</td>\n",
       "      <td>0.875</td>\n",
       "    </tr>\n",
       "    <tr>\n",
       "      <th>4</th>\n",
       "      <td>0.145</td>\n",
       "      <td>0.118</td>\n",
       "      <td>0.231</td>\n",
       "      <td>0.026</td>\n",
       "      <td>0.453</td>\n",
       "      <td>0.284</td>\n",
       "      <td>0.526</td>\n",
       "      <td>0.273</td>\n",
       "      <td>0.201</td>\n",
       "      <td>0.526</td>\n",
       "      <td>strong 2</td>\n",
       "      <td>0.875</td>\n",
       "    </tr>\n",
       "    <tr>\n",
       "      <th>5</th>\n",
       "      <td>0.514</td>\n",
       "      <td>0.052</td>\n",
       "      <td>0.370</td>\n",
       "      <td>0.272</td>\n",
       "      <td>0.025</td>\n",
       "      <td>0.351</td>\n",
       "      <td>0.013</td>\n",
       "      <td>0.358</td>\n",
       "      <td>0.196</td>\n",
       "      <td>0.514</td>\n",
       "      <td>strong 0</td>\n",
       "      <td>0.877</td>\n",
       "    </tr>\n",
       "    <tr>\n",
       "      <th>6</th>\n",
       "      <td>0.189</td>\n",
       "      <td>0.386</td>\n",
       "      <td>0.032</td>\n",
       "      <td>0.346</td>\n",
       "      <td>0.289</td>\n",
       "      <td>0.147</td>\n",
       "      <td>0.488</td>\n",
       "      <td>0.252</td>\n",
       "      <td>0.207</td>\n",
       "      <td>0.488</td>\n",
       "      <td>strong 2</td>\n",
       "      <td>0.869</td>\n",
       "    </tr>\n",
       "    <tr>\n",
       "      <th>7</th>\n",
       "      <td>0.031</td>\n",
       "      <td>0.103</td>\n",
       "      <td>0.364</td>\n",
       "      <td>0.103</td>\n",
       "      <td>0.254</td>\n",
       "      <td>0.618</td>\n",
       "      <td>0.002</td>\n",
       "      <td>0.263</td>\n",
       "      <td>0.297</td>\n",
       "      <td>0.618</td>\n",
       "      <td>strong 7</td>\n",
       "      <td>0.871</td>\n",
       "    </tr>\n",
       "    <tr>\n",
       "      <th>8</th>\n",
       "      <td>0.213</td>\n",
       "      <td>0.163</td>\n",
       "      <td>0.172</td>\n",
       "      <td>0.174</td>\n",
       "      <td>0.172</td>\n",
       "      <td>0.201</td>\n",
       "      <td>0.188</td>\n",
       "      <td>0.171</td>\n",
       "      <td>0.190</td>\n",
       "      <td>0.213</td>\n",
       "      <td>strong 0</td>\n",
       "      <td>0.550</td>\n",
       "    </tr>\n",
       "    <tr>\n",
       "      <th>9</th>\n",
       "      <td>0.135</td>\n",
       "      <td>0.149</td>\n",
       "      <td>0.163</td>\n",
       "      <td>0.143</td>\n",
       "      <td>0.161</td>\n",
       "      <td>0.149</td>\n",
       "      <td>0.146</td>\n",
       "      <td>0.150</td>\n",
       "      <td>0.162</td>\n",
       "      <td>0.163</td>\n",
       "      <td>strong 6</td>\n",
       "      <td>0.453</td>\n",
       "    </tr>\n",
       "  </tbody>\n",
       "</table>\n",
       "</div>"
      ],
      "text/plain": [
       "     strong 0  strong 3  strong 6  strong 1  strong 4  strong 7  strong 2  \\\n",
       "PCs                                                                         \n",
       "0       0.280     0.237     0.338     0.489     0.032     0.181     0.172   \n",
       "1       0.176     0.460     0.019     0.307     0.476     0.164     0.081   \n",
       "2       0.495     0.020     0.490     0.088     0.198     0.025     0.341   \n",
       "3       0.072     0.485     0.024     0.386     0.230     0.085     0.108   \n",
       "4       0.145     0.118     0.231     0.026     0.453     0.284     0.526   \n",
       "5       0.514     0.052     0.370     0.272     0.025     0.351     0.013   \n",
       "6       0.189     0.386     0.032     0.346     0.289     0.147     0.488   \n",
       "7       0.031     0.103     0.364     0.103     0.254     0.618     0.002   \n",
       "8       0.213     0.163     0.172     0.174     0.172     0.201     0.188   \n",
       "9       0.135     0.149     0.163     0.143     0.161     0.149     0.146   \n",
       "\n",
       "     strong 5  strong 8   max max_group  total projection  \n",
       "PCs                                                        \n",
       "0       0.336     0.326 0.489  strong 1             0.877  \n",
       "1       0.177     0.364 0.476  strong 4             0.872  \n",
       "2       0.073     0.341 0.495  strong 0             0.879  \n",
       "3       0.449     0.318 0.485  strong 3             0.875  \n",
       "4       0.273     0.201 0.526  strong 2             0.875  \n",
       "5       0.358     0.196 0.514  strong 0             0.877  \n",
       "6       0.252     0.207 0.488  strong 2             0.869  \n",
       "7       0.263     0.297 0.618  strong 7             0.871  \n",
       "8       0.171     0.190 0.213  strong 0             0.550  \n",
       "9       0.150     0.162 0.163  strong 6             0.453  "
      ]
     },
     "metadata": {},
     "output_type": "display_data"
    }
   ],
   "source": [
    "assy_names_radar = assy_names_disp + [assy_names_disp[0]]\n",
    "PC_names_radar = [f'PC {i:d}' for i in range(n_components)]\n",
    "PC_names_radar = PC_names_radar + [PC_names_radar[0]]\n",
    "PC_idx_radar = list(range(n_components)) + [0]\n",
    "cmap = px.colors.sample_colorscale('thermal', np.linspace(0, 1, n_components))[::-1]\n",
    "if isdivision:\n",
    "    cmap2 = px.colors.sample_colorscale('Rainbow', np.linspace(0, 1, \\\n",
    "        max(len(ids) for ids in assy_div.values())))[::-1]\n",
    "else:\n",
    "    cmap2 = px.colors.sample_colorscale('Rainbow', np.linspace(0, 1, n_assy))[::-1]\n",
    "rotation = 130 if isdivision else 90\n",
    "maxcos = cosvec[assy_names_disp].values.max()\n",
    "\n",
    "fig = go.Figure()\n",
    "for i in range(n_components)[::-1]:\n",
    "    fig.add_trace(go.Scatterpolar(\n",
    "        name=PC_names_radar[i], r=cosvec.loc[i, assy_names_radar],\n",
    "        theta=assy_names_radar, mode='lines', line_color=cmap[i]\n",
    "    ))\n",
    "fig.update_polars(\n",
    "    gridshape = 'linear',\n",
    "    angularaxis = dict(rotation=rotation, direction=\"clockwise\"),\n",
    "    radialaxis = dict(angle=90, tickangle=90, nticks=4, range=(0, maxcos))\n",
    ")\n",
    "fig.update_layout(\n",
    "    width=600, height=400, margin=dict(l=10, r=100, t=60, b=20),\n",
    "    title = dict(text='Cosine similarity between PCs and direction vectors', x=0.5),\n",
    "    legend = dict(traceorder='reversed', xanchor='left', x=1.0, y=0.5)\n",
    ")\n",
    "fig.show()\n",
    "\n",
    "if isdivision:\n",
    "    n_int_assy = len(assy_div)\n",
    "    fig = make_subplots(\n",
    "        rows=1, cols=n_int_assy, specs=[[{'type': 'polar'}] * n_int_assy],\n",
    "        subplot_titles=[f'intrinsic assembly {a:d}' for a in assy_div],\n",
    "        horizontal_spacing=0.0\n",
    "    )\n",
    "    for i, ids in enumerate(assy_div.values()):\n",
    "        for j in range(len(ids)):\n",
    "            fig.add_trace(go.Scatterpolar(name=assy_names[ids[j]],\n",
    "                r=cosvec.loc[PC_idx_radar, assy_names[ids[j]]],\n",
    "                theta=PC_names_radar, mode='lines', line_color=cmap2[j],\n",
    "                legendgroup=i, legendgrouptitle_text=f'intrinsic assembly {i:d}'\n",
    "            ), row=1, col=i + 1)\n",
    "    fig.update_layout(width=1200, height=360, margin=dict(l=10, r=120, t=50, b=30))\n",
    "    for annotation in fig['layout']['annotations']: \n",
    "        annotation['y'] = 1.08\n",
    "else:\n",
    "    fig = go.Figure()\n",
    "    for i in range(n_assy):\n",
    "        fig.add_trace(go.Scatterpolar(name=assy_names_disp[i],\n",
    "            r=cosvec.loc[PC_idx_radar, assy_names_disp[i]],\n",
    "            theta=PC_names_radar, mode='lines', line_color=cmap2[i]\n",
    "        ))\n",
    "    fig.update_layout(width=600, height=400, margin=dict(l=10, r=100, t=40, b=40))\n",
    "fig.update_polars(\n",
    "    gridshape = 'linear',\n",
    "    angularaxis = dict(rotation=90, direction=\"clockwise\"),\n",
    "    radialaxis = dict(angle=90, tickangle=90, nticks=4, range=(0, maxcos))\n",
    ")\n",
    "fig.update_layout(legend=dict(xanchor='left', x=1.0, y=0.5))\n",
    "fig.show()\n",
    "\n",
    "print(\"Alignment (cosine similarity) between PCs and direction vectors\")\n",
    "with pd.option_context('display.float_format', '{:.3f}'.format):\n",
    "    display(cosvec)"
   ]
  },
  {
   "cell_type": "code",
   "execution_count": null,
   "metadata": {},
   "outputs": [],
   "source": []
  }
 ],
 "metadata": {
  "kernelspec": {
   "display_name": "base",
   "language": "python",
   "name": "python3"
  },
  "language_info": {
   "codemirror_mode": {
    "name": "ipython",
    "version": 3
   },
   "file_extension": ".py",
   "mimetype": "text/x-python",
   "name": "python",
   "nbconvert_exporter": "python",
   "pygments_lexer": "ipython3",
   "version": "3.9.12"
  }
 },
 "nbformat": 4,
 "nbformat_minor": 2
}
