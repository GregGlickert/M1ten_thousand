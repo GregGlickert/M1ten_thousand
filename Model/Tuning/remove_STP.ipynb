{
 "cells": [
  {
   "cell_type": "code",
   "execution_count": 1,
   "metadata": {},
   "outputs": [],
   "source": [
    "import numpy as np\n",
    "import json\n",
    "import os\n",
    "from copy import deepcopy\n",
    "\n",
    "from stp_utils import *\n",
    "\n",
    "fr_file = os.path.join('..', '..', 'Analysis', 'analysis_results', 'baseline_unit_fr.npz')\n",
    "SYN_PATH = os.path.join('../', 'components', 'synaptic_models', 'synapses_STP')\n",
    "NO_STP_PATH = os.path.join('../', 'components', 'synaptic_models', 'synapses_no_STP')\n",
    "\n",
    "write_syn_params = True\n",
    "estimate_from_unit_fr = True  # or directly using the population mean firing rate\n",
    "update_weight = 1.0  # weight for the update. New U = weight * estimated P + (1 - weight) * old U"
   ]
  },
  {
   "cell_type": "markdown",
   "metadata": {},
   "source": [
    "### Load data"
   ]
  },
  {
   "cell_type": "code",
   "execution_count": 2,
   "metadata": {},
   "outputs": [],
   "source": [
    "if estimate_from_unit_fr:\n",
    "    with np.load(fr_file) as f:\n",
    "        pop_fr = dict(f.items())\n",
    "    population = list(pop_fr)\n",
    "    valid_idx = {p: np.nonzero(fr > 0)[0] for p, fr in pop_fr.items()}\n",
    "else:\n",
    "    os.chdir('..')\n",
    "    from build_input import SHELL_FR\n",
    "    os.chdir('Tuning')\n",
    "    population = SHELL_FR.index.tolist()\n",
    "\n",
    "syn_files = os.listdir(SYN_PATH)\n",
    "syn_params = {}\n",
    "conn_name = {}\n",
    "for file in syn_files:\n",
    "    conn, _ = os.path.splitext(file)\n",
    "    syn = tuple(conn.split('2'))\n",
    "    with open(os.path.join(SYN_PATH, file), 'r') as f:\n",
    "        syn_params[syn] = json.load(f)\n",
    "    conn_name[syn] = conn"
   ]
  },
  {
   "cell_type": "code",
   "execution_count": 3,
   "metadata": {},
   "outputs": [],
   "source": [
    "select_syn = []\n",
    "PN = ['CP', 'CS']\n",
    "ITN = ['FSI', 'LTS']\n",
    "for pre, post in syn_params:\n",
    "    sel = pre in population\n",
    "    # P2I = pre in PN and post in ITN\n",
    "    # I2P = pre in ITN and post in PN\n",
    "    # sel = sel and (P2I or I2P)\n",
    "    if sel:\n",
    "        select_syn.append((pre, post))"
   ]
  },
  {
   "cell_type": "markdown",
   "metadata": {},
   "source": [
    "### Estimate STP efficacy from baseline firing rates"
   ]
  },
  {
   "cell_type": "code",
   "execution_count": 4,
   "metadata": {},
   "outputs": [],
   "source": [
    "P_est = {}\n",
    "P_std = {}\n",
    "for syn in select_syn:\n",
    "    p = syn_params[syn]\n",
    "    pre = syn[0]\n",
    "    U, tau_d, tau_f = p['Use'], p['Dep'] / 1000, p['Fac'] / 1000\n",
    "    if estimate_from_unit_fr:\n",
    "        rates = pop_fr[pre]\n",
    "        idx = valid_idx[pre]\n",
    "        P = np.full_like(rates, U)\n",
    "        P[idx] = estimate_steady_state(rates[idx], U=U, tau_d=tau_d, tau_f=tau_f)['m_P']\n",
    "        P_est[syn] = np.average(P, weights=rates)  # weighted average\n",
    "        P_std[syn] = np.std(P)\n",
    "    else:\n",
    "        rate = SHELL_FR.loc[pre, 'mean']\n",
    "        P_est[syn] = estimate_steady_state(rate, U=U, tau_d=tau_d, tau_f=tau_f)['m_P'].item()\n",
    "        P_std[syn] = 0."
   ]
  },
  {
   "cell_type": "markdown",
   "metadata": {},
   "source": [
    "### Set new synapse parameters without STP"
   ]
  },
  {
   "cell_type": "code",
   "execution_count": 5,
   "metadata": {},
   "outputs": [
    {
     "name": "stdout",
     "output_type": "stream",
     "text": [
      "Set `Use` according to estimated P\n",
      "CP2CP:\n",
      "mean: 0.5487, stdev: 0.0717\n",
      "Update use:  0.37 --> 0.5487\n",
      "CP2CS:\n",
      "mean: 0.5487, stdev: 0.0717\n",
      "Update use:  0.37 --> 0.5487\n",
      "CP2FSI:\n",
      "mean: 0.0329, stdev: 0.0010\n",
      "Update use:  0.035 --> 0.0329\n",
      "CP2LTS:\n",
      "mean: 0.0829, stdev: 0.0162\n",
      "Update use:  0.05 --> 0.0829\n",
      "CS2CP:\n",
      "mean: 0.2794, stdev: 0.0576\n",
      "Update use:  0.41 --> 0.2794\n",
      "CS2CS:\n",
      "mean: 0.2794, stdev: 0.0576\n",
      "Update use:  0.41 --> 0.2794\n",
      "CS2FSI:\n",
      "mean: 0.1420, stdev: 0.0174\n",
      "Update use:  0.18 --> 0.1420\n",
      "CS2LTS:\n",
      "mean: 0.1862, stdev: 0.0273\n",
      "Update use:  0.13 --> 0.1862\n",
      "FSI2CP:\n",
      "mean: 0.1351, stdev: 0.0557\n",
      "Update use:  0.3 --> 0.1351\n",
      "FSI2CS:\n",
      "mean: 0.1351, stdev: 0.0557\n",
      "Update use:  0.3 --> 0.1351\n",
      "FSI2FSI:\n",
      "mean: 0.1351, stdev: 0.0557\n",
      "Update use:  0.3 --> 0.1351\n",
      "FSI2LTS:\n",
      "mean: 0.1351, stdev: 0.0557\n",
      "Update use:  0.3 --> 0.1351\n",
      "LTS2CP:\n",
      "mean: 0.4596, stdev: 0.0689\n",
      "Update use:  0.3 --> 0.4596\n",
      "LTS2CS:\n",
      "mean: 0.4596, stdev: 0.0689\n",
      "Update use:  0.3 --> 0.4596\n",
      "LTS2FSI:\n",
      "mean: 0.4596, stdev: 0.0689\n",
      "Update use:  0.3 --> 0.4596\n",
      "LTS2LTS:\n",
      "mean: 0.4596, stdev: 0.0689\n",
      "Update use:  0.3 --> 0.4596\n"
     ]
    }
   ],
   "source": [
    "syn_params_no_STP = deepcopy(syn_params)\n",
    "\n",
    "print(\"Set `Use` according to estimated P\")\n",
    "for syn in select_syn:\n",
    "    p = syn_params[syn]\n",
    "    new_p = syn_params_no_STP[syn]\n",
    "    new_p['Use'] = update_weight * P_est[syn] + (1 - update_weight) * p['Use']\n",
    "    new_p['Use'] = np.clip(new_p['Use'], 0, 1).item()\n",
    "    new_p['Dep'] = 0.\n",
    "    new_p['Fac'] = 0.\n",
    "    print(f\"{conn_name[syn]:s}:\")\n",
    "    print(f\"mean: {P_est[syn]:.4f}, stdev: {P_std[syn]:.4f}\")\n",
    "    print(f\"Update use:  {p['Use']} --> {new_p['Use']:.4f}\")"
   ]
  },
  {
   "cell_type": "code",
   "execution_count": 6,
   "metadata": {},
   "outputs": [],
   "source": [
    "if write_syn_params:\n",
    "    if not os.path.isdir(NO_STP_PATH):\n",
    "        os.mkdir(NO_STP_PATH)\n",
    "\n",
    "    for syn, p in syn_params_no_STP.items():\n",
    "        file = os.path.join(NO_STP_PATH, conn_name[syn] + '.json')\n",
    "        with open(file, 'w') as f:\n",
    "            json.dump(p, f, indent=4)"
   ]
  },
  {
   "cell_type": "code",
   "execution_count": null,
   "metadata": {},
   "outputs": [],
   "source": []
  }
 ],
 "metadata": {
  "kernelspec": {
   "display_name": "base",
   "language": "python",
   "name": "python3"
  },
  "language_info": {
   "codemirror_mode": {
    "name": "ipython",
    "version": 3
   },
   "file_extension": ".py",
   "mimetype": "text/x-python",
   "name": "python",
   "nbconvert_exporter": "python",
   "pygments_lexer": "ipython3",
   "version": "3.9.12"
  }
 },
 "nbformat": 4,
 "nbformat_minor": 2
}
