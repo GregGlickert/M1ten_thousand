{
 "cells": [
  {
   "cell_type": "code",
   "execution_count": 1,
   "id": "ce590cf9",
   "metadata": {},
   "outputs": [],
   "source": [
    "import numpy as np\n",
    "import matplotlib.pyplot as plt\n",
    "import neuron\n",
    "from neuron import h\n",
    "\n",
    "h.load_file('stdrun.hoc')\n",
    "mechanisms_dir = '../components/mechanisms'\n",
    "templates_file = '../components/templates/templates.hoc'\n",
    "neuron.load_mechanisms(mechanisms_dir)\n",
    "h.load_file(templates_file) # reads in template\n",
    "\n",
    "pc = h.ParallelContext()\n",
    "\n",
    "h.dt = 0.025 # time step (resolution) of the simulation in ms\n",
    "h.steps_per_ms = 1 / h.dt\n",
    "h.celsius = 36.0"
   ]
  },
  {
   "cell_type": "code",
   "execution_count": 2,
   "id": "fe07104f",
   "metadata": {},
   "outputs": [],
   "source": [
    "Cell = 'LTS_Cell'\n",
    "t_start = 500\n",
    "t_end = 1000"
   ]
  },
  {
   "cell_type": "code",
   "execution_count": 3,
   "id": "91e1cd0a",
   "metadata": {},
   "outputs": [],
   "source": [
    "h.tstop = t_end + 100.\n",
    "\n",
    "cell1 = getattr(h, Cell)()\n",
    "cell2 = getattr(h, Cell)()\n",
    "\n",
    "icl = h.IClamp(cell1.soma[0](0.5))\n",
    "icl.delay = t_start\n",
    "icl.dur = t_end - t_start\n",
    "icl.amp = -0.01 # nA"
   ]
  },
  {
   "cell_type": "code",
   "execution_count": 4,
   "id": "694b374b",
   "metadata": {},
   "outputs": [
    {
     "data": {
      "text/plain": [
       "0.0"
      ]
     },
     "execution_count": 4,
     "metadata": {},
     "output_type": "execute_result"
    }
   ],
   "source": [
    "sec1 = cell1.soma[0]\n",
    "sec2 = cell2.soma[0]\n",
    "\n",
    "pc.source_var(sec1(0.5)._ref_v, 0, sec=sec1)\n",
    "gap_junc_1 = h.Gap(sec1(0.5))\n",
    "pc.target_var(gap_junc_1._ref_vgap, 1)\n",
    "\n",
    "pc.source_var(sec2(0.5)._ref_v, 1, sec=sec2)\n",
    "gap_junc_2 = h.Gap(sec2(0.5))\n",
    "pc.target_var(gap_junc_2._ref_vgap, 0)\n",
    "\n",
    "pc.setup_transfer()"
   ]
  },
  {
   "cell_type": "code",
   "execution_count": 5,
   "id": "2a1c15bc",
   "metadata": {},
   "outputs": [],
   "source": [
    "## Using POINTER in mod file\n",
    "# gap_junc_1 = h.Gap(cell1.soma[0](0.5))\n",
    "# gap_junc_2 = h.Gap(cell2.soma[0](0.5))\n",
    "# gap_junc_1._ref_vgap = cell2.soma[0](0.5)._ref_v\n",
    "# gap_junc_2._ref_vgap = cell1.soma[0](0.5)._ref_v"
   ]
  },
  {
   "cell_type": "code",
   "execution_count": 6,
   "id": "20d2a5db",
   "metadata": {},
   "outputs": [
    {
     "data": {
      "text/plain": [
       "Vector[2]"
      ]
     },
     "execution_count": 6,
     "metadata": {},
     "output_type": "execute_result"
    }
   ],
   "source": [
    "t_vec = h.Vector()\n",
    "soma_v_1 = h.Vector()\n",
    "soma_v_2 = h.Vector()\n",
    "t_vec.record(h._ref_t)\n",
    "soma_v_1.record(cell1.soma[0](0.5)._ref_v)\n",
    "soma_v_2.record(cell2.soma[0](0.5)._ref_v)"
   ]
  },
  {
   "cell_type": "code",
   "execution_count": 7,
   "id": "d41c8e11",
   "metadata": {},
   "outputs": [
    {
     "name": "stdout",
     "output_type": "stream",
     "text": [
      "Resistance: 2632 MOhms\n"
     ]
    }
   ],
   "source": [
    "g_gap = {'FSI_Cell': 0.00033, 'LTS_Cell': 0.00038}\n",
    "g = g_gap[Cell]\n",
    "gap_junc_1.g = g\n",
    "gap_junc_2.g = g\n",
    "print(f'Resistance: {1/g:.4g} MOhms')"
   ]
  },
  {
   "cell_type": "code",
   "execution_count": 8,
   "id": "95c9c235",
   "metadata": {},
   "outputs": [
    {
     "data": {
      "text/plain": [
       "0.0"
      ]
     },
     "execution_count": 8,
     "metadata": {},
     "output_type": "execute_result"
    }
   ],
   "source": [
    "h.run()"
   ]
  },
  {
   "cell_type": "code",
   "execution_count": 9,
   "id": "ab8671cf",
   "metadata": {},
   "outputs": [
    {
     "data": {
      "image/png": "[encoded data removed]",
      "text/plain": [
       "<Figure size 432x288 with 1 Axes>"
      ]
     },
     "metadata": {
      "needs_background": "light"
     },
     "output_type": "display_data"
    }
   ],
   "source": [
    "t_range = [t_start - 100., t_end + 100.]\n",
    "t = np.array(t_vec)\n",
    "v1 = np.array(soma_v_1)\n",
    "v2 = np.array(soma_v_2)\n",
    "tidx = (t >= t_range[0]) & (t <= t_range[1])\n",
    "\n",
    "plt.figure()\n",
    "plt.plot(t[tidx], v1[tidx], 'b', label='cell 1')\n",
    "plt.plot(t[tidx], v2[tidx], 'r', label='cell 2')\n",
    "plt.xlabel('Time (ms)')\n",
    "plt.ylabel('Membrane Voltage (mV)')\n",
    "plt.legend()\n",
    "plt.show()"
   ]
  },
  {
   "cell_type": "code",
   "execution_count": 10,
   "id": "f3e3715f",
   "metadata": {},
   "outputs": [
    {
     "name": "stdout",
     "output_type": "stream",
     "text": [
      "0.09920377907793838\n"
     ]
    }
   ],
   "source": [
    "def coupling_coefficient(t, v1, v2, t_start, t_end, dt=h.dt):\n",
    "    t = np.asarray(t)\n",
    "    v1 = np.asarray(v1)\n",
    "    v2 = np.asarray(v2)\n",
    "    idx1 = np.nonzero(t < t_start)[0][-1]\n",
    "    idx2 = np.nonzero(t < t_end)[0][-1]\n",
    "    return (v2[idx2] - v2[idx1]) / (v1[idx2] - v1[idx1])\n",
    "\n",
    "cc = coupling_coefficient(t, soma_v_1, soma_v_2, 500, 1000)\n",
    "print(cc)"
   ]
  },
  {
   "cell_type": "code",
   "execution_count": null,
   "id": "c020aada",
   "metadata": {
    "scrolled": true
   },
   "outputs": [],
   "source": []
  }
 ],
 "metadata": {
  "kernelspec": {
   "display_name": "Python 3 (ipykernel)",
   "language": "python",
   "name": "python3"
  },
  "language_info": {
   "codemirror_mode": {
    "name": "ipython",
    "version": 3
   },
   "file_extension": ".py",
   "mimetype": "text/x-python",
   "name": "python",
   "nbconvert_exporter": "python",
   "pygments_lexer": "ipython3",
   "version": "3.9.12"
  }
 },
 "nbformat": 4,
 "nbformat_minor": 5
}
